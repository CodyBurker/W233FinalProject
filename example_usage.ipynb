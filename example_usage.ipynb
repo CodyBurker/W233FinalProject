{
 "cells": [
  {
   "cell_type": "markdown",
   "metadata": {},
   "source": [
    "An example for how to use this library."
   ]
  },
  {
   "cell_type": "code",
   "execution_count": 1,
   "metadata": {},
   "outputs": [],
   "source": [
    "from anonymization import *"
   ]
  },
  {
   "cell_type": "markdown",
   "metadata": {},
   "source": [
    "The netflix dataset is an example of a dataset that was de-anonymized (http://arxivblog.com/?p=142) so we will use this to demonstrate our library.\n",
    "We source this data from Kaggle (https://www.kaggle.com/netflix-inc/netflix-prize-data?select=combined_data_1.txt). "
   ]
  },
  {
   "cell_type": "code",
   "execution_count": 2,
   "metadata": {},
   "outputs": [],
   "source": [
    "import pandas as pd\n",
    "# Read in file as dataframe, ignoring first row and using column names ['CustomerID','Rating','Date']\n",
    "df = pd.read_csv('NetflixDataset/combined_data_1.txt', header=0, names=['CustomerID','Rating','Date'])\n",
    "# Convert Rating column to integer\n",
    "is_int = df.Rating.apply(lambda x: x.is_integer())\n",
    "df = df[is_int]\n",
    "df['Rating'] = df['Rating'].astype(int)"
   ]
  },
  {
   "cell_type": "code",
   "execution_count": 3,
   "metadata": {},
   "outputs": [
    {
     "data": {
      "text/html": [
       "<div>\n",
       "<style scoped>\n",
       "    .dataframe tbody tr th:only-of-type {\n",
       "        vertical-align: middle;\n",
       "    }\n",
       "\n",
       "    .dataframe tbody tr th {\n",
       "        vertical-align: top;\n",
       "    }\n",
       "\n",
       "    .dataframe thead th {\n",
       "        text-align: right;\n",
       "    }\n",
       "</style>\n",
       "<table border=\"1\" class=\"dataframe\">\n",
       "  <thead>\n",
       "    <tr style=\"text-align: right;\">\n",
       "      <th></th>\n",
       "      <th>CustomerID</th>\n",
       "      <th>Rating</th>\n",
       "      <th>Date</th>\n",
       "    </tr>\n",
       "  </thead>\n",
       "  <tbody>\n",
       "    <tr>\n",
       "      <th>0</th>\n",
       "      <td>1488844</td>\n",
       "      <td>3</td>\n",
       "      <td>2005-09-06</td>\n",
       "    </tr>\n",
       "    <tr>\n",
       "      <th>1</th>\n",
       "      <td>822109</td>\n",
       "      <td>5</td>\n",
       "      <td>2005-05-13</td>\n",
       "    </tr>\n",
       "    <tr>\n",
       "      <th>2</th>\n",
       "      <td>885013</td>\n",
       "      <td>4</td>\n",
       "      <td>2005-10-19</td>\n",
       "    </tr>\n",
       "    <tr>\n",
       "      <th>3</th>\n",
       "      <td>30878</td>\n",
       "      <td>4</td>\n",
       "      <td>2005-12-26</td>\n",
       "    </tr>\n",
       "    <tr>\n",
       "      <th>4</th>\n",
       "      <td>823519</td>\n",
       "      <td>3</td>\n",
       "      <td>2004-05-03</td>\n",
       "    </tr>\n",
       "    <tr>\n",
       "      <th>...</th>\n",
       "      <td>...</td>\n",
       "      <td>...</td>\n",
       "      <td>...</td>\n",
       "    </tr>\n",
       "    <tr>\n",
       "      <th>24058257</th>\n",
       "      <td>2591364</td>\n",
       "      <td>2</td>\n",
       "      <td>2005-02-16</td>\n",
       "    </tr>\n",
       "    <tr>\n",
       "      <th>24058258</th>\n",
       "      <td>1791000</td>\n",
       "      <td>2</td>\n",
       "      <td>2005-02-10</td>\n",
       "    </tr>\n",
       "    <tr>\n",
       "      <th>24058259</th>\n",
       "      <td>512536</td>\n",
       "      <td>5</td>\n",
       "      <td>2005-07-27</td>\n",
       "    </tr>\n",
       "    <tr>\n",
       "      <th>24058260</th>\n",
       "      <td>988963</td>\n",
       "      <td>3</td>\n",
       "      <td>2005-12-20</td>\n",
       "    </tr>\n",
       "    <tr>\n",
       "      <th>24058261</th>\n",
       "      <td>1704416</td>\n",
       "      <td>3</td>\n",
       "      <td>2004-06-02</td>\n",
       "    </tr>\n",
       "  </tbody>\n",
       "</table>\n",
       "<p>24053764 rows × 3 columns</p>\n",
       "</div>"
      ],
      "text/plain": [
       "         CustomerID  Rating        Date\n",
       "0           1488844       3  2005-09-06\n",
       "1            822109       5  2005-05-13\n",
       "2            885013       4  2005-10-19\n",
       "3             30878       4  2005-12-26\n",
       "4            823519       3  2004-05-03\n",
       "...             ...     ...         ...\n",
       "24058257    2591364       2  2005-02-16\n",
       "24058258    1791000       2  2005-02-10\n",
       "24058259     512536       5  2005-07-27\n",
       "24058260     988963       3  2005-12-20\n",
       "24058261    1704416       3  2004-06-02\n",
       "\n",
       "[24053764 rows x 3 columns]"
      ]
     },
     "execution_count": 3,
     "metadata": {},
     "output_type": "execute_result"
    }
   ],
   "source": [
    "# Print out first few rows of dataframe\n",
    "df"
   ]
  },
  {
   "cell_type": "code",
   "execution_count": 4,
   "metadata": {},
   "outputs": [
    {
     "name": "stdout",
     "output_type": "stream",
     "text": [
      "The smallest k-anonymity is: 1\n"
     ]
    }
   ],
   "source": [
    "# Using ['Rating','Date'] as quasi-Identifiers, test the k-anonymity of the dataframe\n",
    "smallest_k = get_k(df, ['Rating','Date'])\n",
    "print(\"The smallest k-anonymity is:\", smallest_k)"
   ]
  },
  {
   "cell_type": "markdown",
   "metadata": {},
   "source": [
    "So there are rows where only a single person gave a specific rating on a given date. Which ones though? We can find this out with another function:"
   ]
  },
  {
   "cell_type": "code",
   "execution_count": 5,
   "metadata": {},
   "outputs": [
    {
     "data": {
      "text/html": [
       "<div>\n",
       "<style scoped>\n",
       "    .dataframe tbody tr th:only-of-type {\n",
       "        vertical-align: middle;\n",
       "    }\n",
       "\n",
       "    .dataframe tbody tr th {\n",
       "        vertical-align: top;\n",
       "    }\n",
       "\n",
       "    .dataframe thead th {\n",
       "        text-align: right;\n",
       "    }\n",
       "</style>\n",
       "<table border=\"1\" class=\"dataframe\">\n",
       "  <thead>\n",
       "    <tr style=\"text-align: right;\">\n",
       "      <th></th>\n",
       "      <th>Rating</th>\n",
       "      <th>Date</th>\n",
       "      <th>KCount</th>\n",
       "    </tr>\n",
       "  </thead>\n",
       "  <tbody>\n",
       "    <tr>\n",
       "      <th>2</th>\n",
       "      <td>1</td>\n",
       "      <td>1999-12-17</td>\n",
       "      <td>1</td>\n",
       "    </tr>\n",
       "    <tr>\n",
       "      <th>4</th>\n",
       "      <td>1</td>\n",
       "      <td>1999-12-22</td>\n",
       "      <td>1</td>\n",
       "    </tr>\n",
       "    <tr>\n",
       "      <th>5</th>\n",
       "      <td>1</td>\n",
       "      <td>1999-12-24</td>\n",
       "      <td>1</td>\n",
       "    </tr>\n",
       "    <tr>\n",
       "      <th>6</th>\n",
       "      <td>1</td>\n",
       "      <td>1999-12-25</td>\n",
       "      <td>1</td>\n",
       "    </tr>\n",
       "    <tr>\n",
       "      <th>7</th>\n",
       "      <td>1</td>\n",
       "      <td>1999-12-26</td>\n",
       "      <td>1</td>\n",
       "    </tr>\n",
       "    <tr>\n",
       "      <th>8</th>\n",
       "      <td>1</td>\n",
       "      <td>1999-12-27</td>\n",
       "      <td>1</td>\n",
       "    </tr>\n",
       "    <tr>\n",
       "      <th>9</th>\n",
       "      <td>1</td>\n",
       "      <td>1999-12-29</td>\n",
       "      <td>1</td>\n",
       "    </tr>\n",
       "    <tr>\n",
       "      <th>2171</th>\n",
       "      <td>2</td>\n",
       "      <td>1999-11-11</td>\n",
       "      <td>1</td>\n",
       "    </tr>\n",
       "    <tr>\n",
       "      <th>2172</th>\n",
       "      <td>2</td>\n",
       "      <td>1999-12-09</td>\n",
       "      <td>1</td>\n",
       "    </tr>\n",
       "    <tr>\n",
       "      <th>2174</th>\n",
       "      <td>2</td>\n",
       "      <td>1999-12-12</td>\n",
       "      <td>1</td>\n",
       "    </tr>\n",
       "    <tr>\n",
       "      <th>2177</th>\n",
       "      <td>2</td>\n",
       "      <td>1999-12-18</td>\n",
       "      <td>1</td>\n",
       "    </tr>\n",
       "    <tr>\n",
       "      <th>2180</th>\n",
       "      <td>2</td>\n",
       "      <td>1999-12-25</td>\n",
       "      <td>1</td>\n",
       "    </tr>\n",
       "    <tr>\n",
       "      <th>2181</th>\n",
       "      <td>2</td>\n",
       "      <td>1999-12-27</td>\n",
       "      <td>1</td>\n",
       "    </tr>\n",
       "    <tr>\n",
       "      <th>4343</th>\n",
       "      <td>3</td>\n",
       "      <td>1999-11-11</td>\n",
       "      <td>1</td>\n",
       "    </tr>\n",
       "    <tr>\n",
       "      <th>4347</th>\n",
       "      <td>3</td>\n",
       "      <td>1999-12-10</td>\n",
       "      <td>1</td>\n",
       "    </tr>\n",
       "    <tr>\n",
       "      <th>4352</th>\n",
       "      <td>3</td>\n",
       "      <td>1999-12-18</td>\n",
       "      <td>1</td>\n",
       "    </tr>\n",
       "    <tr>\n",
       "      <th>4358</th>\n",
       "      <td>3</td>\n",
       "      <td>1999-12-26</td>\n",
       "      <td>1</td>\n",
       "    </tr>\n",
       "    <tr>\n",
       "      <th>4360</th>\n",
       "      <td>3</td>\n",
       "      <td>1999-12-28</td>\n",
       "      <td>1</td>\n",
       "    </tr>\n",
       "    <tr>\n",
       "      <th>6523</th>\n",
       "      <td>4</td>\n",
       "      <td>1999-11-11</td>\n",
       "      <td>1</td>\n",
       "    </tr>\n",
       "    <tr>\n",
       "      <th>6528</th>\n",
       "      <td>4</td>\n",
       "      <td>1999-12-12</td>\n",
       "      <td>1</td>\n",
       "    </tr>\n",
       "    <tr>\n",
       "      <th>6529</th>\n",
       "      <td>4</td>\n",
       "      <td>1999-12-15</td>\n",
       "      <td>1</td>\n",
       "    </tr>\n",
       "    <tr>\n",
       "      <th>6534</th>\n",
       "      <td>4</td>\n",
       "      <td>1999-12-22</td>\n",
       "      <td>1</td>\n",
       "    </tr>\n",
       "    <tr>\n",
       "      <th>6536</th>\n",
       "      <td>4</td>\n",
       "      <td>1999-12-26</td>\n",
       "      <td>1</td>\n",
       "    </tr>\n",
       "    <tr>\n",
       "      <th>6538</th>\n",
       "      <td>4</td>\n",
       "      <td>1999-12-28</td>\n",
       "      <td>1</td>\n",
       "    </tr>\n",
       "    <tr>\n",
       "      <th>8703</th>\n",
       "      <td>5</td>\n",
       "      <td>1999-12-12</td>\n",
       "      <td>1</td>\n",
       "    </tr>\n",
       "    <tr>\n",
       "      <th>8709</th>\n",
       "      <td>5</td>\n",
       "      <td>1999-12-25</td>\n",
       "      <td>1</td>\n",
       "    </tr>\n",
       "    <tr>\n",
       "      <th>8711</th>\n",
       "      <td>5</td>\n",
       "      <td>1999-12-28</td>\n",
       "      <td>1</td>\n",
       "    </tr>\n",
       "    <tr>\n",
       "      <th>8712</th>\n",
       "      <td>5</td>\n",
       "      <td>1999-12-29</td>\n",
       "      <td>1</td>\n",
       "    </tr>\n",
       "  </tbody>\n",
       "</table>\n",
       "</div>"
      ],
      "text/plain": [
       "      Rating        Date  KCount\n",
       "2          1  1999-12-17       1\n",
       "4          1  1999-12-22       1\n",
       "5          1  1999-12-24       1\n",
       "6          1  1999-12-25       1\n",
       "7          1  1999-12-26       1\n",
       "8          1  1999-12-27       1\n",
       "9          1  1999-12-29       1\n",
       "2171       2  1999-11-11       1\n",
       "2172       2  1999-12-09       1\n",
       "2174       2  1999-12-12       1\n",
       "2177       2  1999-12-18       1\n",
       "2180       2  1999-12-25       1\n",
       "2181       2  1999-12-27       1\n",
       "4343       3  1999-11-11       1\n",
       "4347       3  1999-12-10       1\n",
       "4352       3  1999-12-18       1\n",
       "4358       3  1999-12-26       1\n",
       "4360       3  1999-12-28       1\n",
       "6523       4  1999-11-11       1\n",
       "6528       4  1999-12-12       1\n",
       "6529       4  1999-12-15       1\n",
       "6534       4  1999-12-22       1\n",
       "6536       4  1999-12-26       1\n",
       "6538       4  1999-12-28       1\n",
       "8703       5  1999-12-12       1\n",
       "8709       5  1999-12-25       1\n",
       "8711       5  1999-12-28       1\n",
       "8712       5  1999-12-29       1"
      ]
     },
     "execution_count": 5,
     "metadata": {},
     "output_type": "execute_result"
    }
   ],
   "source": [
    "# Show the smallest k-anonymity of the dataframe\n",
    "equiv_classes_k = smallest_classes(df, ['Rating','Date'])\n",
    "# Show rows where KCount=smallest_k\n",
    "equiv_classes_k"
   ]
  },
  {
   "cell_type": "markdown",
   "metadata": {},
   "source": [
    "We can get the l-distinct value for the table easily also:"
   ]
  },
  {
   "cell_type": "code",
   "execution_count": 6,
   "metadata": {},
   "outputs": [
    {
     "name": "stdout",
     "output_type": "stream",
     "text": [
      "The table is distinct- 1  diverse\n"
     ]
    }
   ],
   "source": [
    "# Get l-distinct of the dataframe\n",
    "smallest_l = get_l_distinct(df, ['Rating','Date'], 'CustomerID')\n",
    "print(\"The table is distinct-\", smallest_l, \" diverse\")"
   ]
  },
  {
   "cell_type": "markdown",
   "metadata": {},
   "source": [
    "We can also get the l-entropy of the table:"
   ]
  },
  {
   "cell_type": "code",
   "execution_count": 7,
   "metadata": {},
   "outputs": [
    {
     "name": "stdout",
     "output_type": "stream",
     "text": [
      "The table is entropy- 1.0  diverse\n"
     ]
    }
   ],
   "source": [
    "# Get l entropy of the dataframe\n",
    "smallest_l_entropy = get_l_entropy(df, ['Rating','Date'], 'CustomerID')\n",
    "print(\"The table is entropy-\", smallest_l_entropy,\" diverse\")"
   ]
  },
  {
   "cell_type": "markdown",
   "metadata": {},
   "source": [
    "We can get t-closeness using equal ground distance."
   ]
  },
  {
   "cell_type": "code",
   "execution_count": 9,
   "metadata": {},
   "outputs": [],
   "source": [
    "# Random sample of df without replacement\n",
    "df_sample = df.sample(frac=.01, replace=False)\n",
    "t_closeness_egd = get_t_closeness(df_sample, ['Rating','Date'], 'CustomerID',0)\n",
    "# print(t_closeness_egd)"
   ]
  }
 ],
 "metadata": {
  "interpreter": {
   "hash": "022cd5b853211d81cd8e3dedb665bf335eaa864a65351045c593ce9c6ae48a6b"
  },
  "kernelspec": {
   "display_name": "Python 3.7.2 64-bit",
   "language": "python",
   "name": "python3"
  },
  "language_info": {
   "codemirror_mode": {
    "name": "ipython",
    "version": 3
   },
   "file_extension": ".py",
   "mimetype": "text/x-python",
   "name": "python",
   "nbconvert_exporter": "python",
   "pygments_lexer": "ipython3",
   "version": "3.7.2"
  },
  "orig_nbformat": 4
 },
 "nbformat": 4,
 "nbformat_minor": 2
}
